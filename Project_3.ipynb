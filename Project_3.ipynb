{
  "nbformat": 4,
  "nbformat_minor": 0,
  "metadata": {
    "colab": {
      "name": "Project_3.ipynb",
      "provenance": []
    },
    "kernelspec": {
      "name": "python3",
      "display_name": "Python 3"
    },
    "language_info": {
      "name": "python"
    }
  },
  "cells": [
    {
      "cell_type": "code",
      "execution_count": 1,
      "metadata": {
        "id": "Xawm39_ZnV8W"
      },
      "outputs": [],
      "source": [
        "import numpy as np\n",
        "import matplotlib.pyplot as plt\n",
        "import pandas as pd"
      ]
    },
    {
      "cell_type": "code",
      "source": [
        "df=pd.read_csv(\"/content/Damercherla.csv\")"
      ],
      "metadata": {
        "id": "j6Vproo2nhQw"
      },
      "execution_count": 5,
      "outputs": []
    },
    {
      "cell_type": "code",
      "source": [
        "df.head()"
      ],
      "metadata": {
        "colab": {
          "base_uri": "https://localhost:8080/",
          "height": 206
        },
        "id": "9AlJemQfn010",
        "outputId": "6c6c17b1-4979-45c6-eb4c-8e0f1f901784"
      },
      "execution_count": 6,
      "outputs": [
        {
          "output_type": "execute_result",
          "data": {
            "text/plain": [
              "   YEAR  MO  DY   QV2M   RH2M  PRECTOTCORR\n",
              "0  1990   1   1  13.61  68.62         0.77\n",
              "1  1990   1   2  13.24  69.56         0.12\n",
              "2  1990   1   3  12.39  66.81         0.00\n",
              "3  1990   1   4  10.93  60.62         0.00\n",
              "4  1990   1   5  10.31  60.88         0.00"
            ],
            "text/html": [
              "\n",
              "  <div id=\"df-68992691-dbfe-43fd-a454-c71d6abba277\">\n",
              "    <div class=\"colab-df-container\">\n",
              "      <div>\n",
              "<style scoped>\n",
              "    .dataframe tbody tr th:only-of-type {\n",
              "        vertical-align: middle;\n",
              "    }\n",
              "\n",
              "    .dataframe tbody tr th {\n",
              "        vertical-align: top;\n",
              "    }\n",
              "\n",
              "    .dataframe thead th {\n",
              "        text-align: right;\n",
              "    }\n",
              "</style>\n",
              "<table border=\"1\" class=\"dataframe\">\n",
              "  <thead>\n",
              "    <tr style=\"text-align: right;\">\n",
              "      <th></th>\n",
              "      <th>YEAR</th>\n",
              "      <th>MO</th>\n",
              "      <th>DY</th>\n",
              "      <th>QV2M</th>\n",
              "      <th>RH2M</th>\n",
              "      <th>PRECTOTCORR</th>\n",
              "    </tr>\n",
              "  </thead>\n",
              "  <tbody>\n",
              "    <tr>\n",
              "      <th>0</th>\n",
              "      <td>1990</td>\n",
              "      <td>1</td>\n",
              "      <td>1</td>\n",
              "      <td>13.61</td>\n",
              "      <td>68.62</td>\n",
              "      <td>0.77</td>\n",
              "    </tr>\n",
              "    <tr>\n",
              "      <th>1</th>\n",
              "      <td>1990</td>\n",
              "      <td>1</td>\n",
              "      <td>2</td>\n",
              "      <td>13.24</td>\n",
              "      <td>69.56</td>\n",
              "      <td>0.12</td>\n",
              "    </tr>\n",
              "    <tr>\n",
              "      <th>2</th>\n",
              "      <td>1990</td>\n",
              "      <td>1</td>\n",
              "      <td>3</td>\n",
              "      <td>12.39</td>\n",
              "      <td>66.81</td>\n",
              "      <td>0.00</td>\n",
              "    </tr>\n",
              "    <tr>\n",
              "      <th>3</th>\n",
              "      <td>1990</td>\n",
              "      <td>1</td>\n",
              "      <td>4</td>\n",
              "      <td>10.93</td>\n",
              "      <td>60.62</td>\n",
              "      <td>0.00</td>\n",
              "    </tr>\n",
              "    <tr>\n",
              "      <th>4</th>\n",
              "      <td>1990</td>\n",
              "      <td>1</td>\n",
              "      <td>5</td>\n",
              "      <td>10.31</td>\n",
              "      <td>60.88</td>\n",
              "      <td>0.00</td>\n",
              "    </tr>\n",
              "  </tbody>\n",
              "</table>\n",
              "</div>\n",
              "      <button class=\"colab-df-convert\" onclick=\"convertToInteractive('df-68992691-dbfe-43fd-a454-c71d6abba277')\"\n",
              "              title=\"Convert this dataframe to an interactive table.\"\n",
              "              style=\"display:none;\">\n",
              "        \n",
              "  <svg xmlns=\"http://www.w3.org/2000/svg\" height=\"24px\"viewBox=\"0 0 24 24\"\n",
              "       width=\"24px\">\n",
              "    <path d=\"M0 0h24v24H0V0z\" fill=\"none\"/>\n",
              "    <path d=\"M18.56 5.44l.94 2.06.94-2.06 2.06-.94-2.06-.94-.94-2.06-.94 2.06-2.06.94zm-11 1L8.5 8.5l.94-2.06 2.06-.94-2.06-.94L8.5 2.5l-.94 2.06-2.06.94zm10 10l.94 2.06.94-2.06 2.06-.94-2.06-.94-.94-2.06-.94 2.06-2.06.94z\"/><path d=\"M17.41 7.96l-1.37-1.37c-.4-.4-.92-.59-1.43-.59-.52 0-1.04.2-1.43.59L10.3 9.45l-7.72 7.72c-.78.78-.78 2.05 0 2.83L4 21.41c.39.39.9.59 1.41.59.51 0 1.02-.2 1.41-.59l7.78-7.78 2.81-2.81c.8-.78.8-2.07 0-2.86zM5.41 20L4 18.59l7.72-7.72 1.47 1.35L5.41 20z\"/>\n",
              "  </svg>\n",
              "      </button>\n",
              "      \n",
              "  <style>\n",
              "    .colab-df-container {\n",
              "      display:flex;\n",
              "      flex-wrap:wrap;\n",
              "      gap: 12px;\n",
              "    }\n",
              "\n",
              "    .colab-df-convert {\n",
              "      background-color: #E8F0FE;\n",
              "      border: none;\n",
              "      border-radius: 50%;\n",
              "      cursor: pointer;\n",
              "      display: none;\n",
              "      fill: #1967D2;\n",
              "      height: 32px;\n",
              "      padding: 0 0 0 0;\n",
              "      width: 32px;\n",
              "    }\n",
              "\n",
              "    .colab-df-convert:hover {\n",
              "      background-color: #E2EBFA;\n",
              "      box-shadow: 0px 1px 2px rgba(60, 64, 67, 0.3), 0px 1px 3px 1px rgba(60, 64, 67, 0.15);\n",
              "      fill: #174EA6;\n",
              "    }\n",
              "\n",
              "    [theme=dark] .colab-df-convert {\n",
              "      background-color: #3B4455;\n",
              "      fill: #D2E3FC;\n",
              "    }\n",
              "\n",
              "    [theme=dark] .colab-df-convert:hover {\n",
              "      background-color: #434B5C;\n",
              "      box-shadow: 0px 1px 3px 1px rgba(0, 0, 0, 0.15);\n",
              "      filter: drop-shadow(0px 1px 2px rgba(0, 0, 0, 0.3));\n",
              "      fill: #FFFFFF;\n",
              "    }\n",
              "  </style>\n",
              "\n",
              "      <script>\n",
              "        const buttonEl =\n",
              "          document.querySelector('#df-68992691-dbfe-43fd-a454-c71d6abba277 button.colab-df-convert');\n",
              "        buttonEl.style.display =\n",
              "          google.colab.kernel.accessAllowed ? 'block' : 'none';\n",
              "\n",
              "        async function convertToInteractive(key) {\n",
              "          const element = document.querySelector('#df-68992691-dbfe-43fd-a454-c71d6abba277');\n",
              "          const dataTable =\n",
              "            await google.colab.kernel.invokeFunction('convertToInteractive',\n",
              "                                                     [key], {});\n",
              "          if (!dataTable) return;\n",
              "\n",
              "          const docLinkHtml = 'Like what you see? Visit the ' +\n",
              "            '<a target=\"_blank\" href=https://colab.research.google.com/notebooks/data_table.ipynb>data table notebook</a>'\n",
              "            + ' to learn more about interactive tables.';\n",
              "          element.innerHTML = '';\n",
              "          dataTable['output_type'] = 'display_data';\n",
              "          await google.colab.output.renderOutput(dataTable, element);\n",
              "          const docLink = document.createElement('div');\n",
              "          docLink.innerHTML = docLinkHtml;\n",
              "          element.appendChild(docLink);\n",
              "        }\n",
              "      </script>\n",
              "    </div>\n",
              "  </div>\n",
              "  "
            ]
          },
          "metadata": {},
          "execution_count": 6
        }
      ]
    },
    {
      "cell_type": "code",
      "source": [
        "df.columns\n"
      ],
      "metadata": {
        "colab": {
          "base_uri": "https://localhost:8080/"
        },
        "id": "8qJTD_WBowZu",
        "outputId": "c3fc4780-4431-4db8-bf7d-8ff9fbef899e"
      },
      "execution_count": 7,
      "outputs": [
        {
          "output_type": "execute_result",
          "data": {
            "text/plain": [
              "Index(['YEAR', 'MO', 'DY', 'QV2M', 'RH2M', 'PRECTOTCORR'], dtype='object')"
            ]
          },
          "metadata": {},
          "execution_count": 7
        }
      ]
    },
    {
      "cell_type": "code",
      "source": [
        "df=df.drop(['YEAR','MO','DY'],axis=1)"
      ],
      "metadata": {
        "id": "et5pxT2IoyrQ"
      },
      "execution_count": 9,
      "outputs": []
    },
    {
      "cell_type": "code",
      "source": [
        "df\n"
      ],
      "metadata": {
        "colab": {
          "base_uri": "https://localhost:8080/",
          "height": 424
        },
        "id": "TNllVX56pAP6",
        "outputId": "49f19d07-845a-4d57-8952-5a39921e9bbf"
      },
      "execution_count": 10,
      "outputs": [
        {
          "output_type": "execute_result",
          "data": {
            "text/plain": [
              "        QV2M   RH2M  PRECTOTCORR\n",
              "0      13.61  68.62         0.77\n",
              "1      13.24  69.56         0.12\n",
              "2      12.39  66.81         0.00\n",
              "3      10.93  60.62         0.00\n",
              "4      10.31  60.88         0.00\n",
              "...      ...    ...          ...\n",
              "11683  13.12  77.19         0.00\n",
              "11684  13.00  76.69         0.00\n",
              "11685  12.45  74.50         0.00\n",
              "11686  12.70  75.81         0.00\n",
              "11687  12.39  75.69         0.01\n",
              "\n",
              "[11688 rows x 3 columns]"
            ],
            "text/html": [
              "\n",
              "  <div id=\"df-33d4489d-3fb5-4e9b-a3ff-c6cf6b7b2f75\">\n",
              "    <div class=\"colab-df-container\">\n",
              "      <div>\n",
              "<style scoped>\n",
              "    .dataframe tbody tr th:only-of-type {\n",
              "        vertical-align: middle;\n",
              "    }\n",
              "\n",
              "    .dataframe tbody tr th {\n",
              "        vertical-align: top;\n",
              "    }\n",
              "\n",
              "    .dataframe thead th {\n",
              "        text-align: right;\n",
              "    }\n",
              "</style>\n",
              "<table border=\"1\" class=\"dataframe\">\n",
              "  <thead>\n",
              "    <tr style=\"text-align: right;\">\n",
              "      <th></th>\n",
              "      <th>QV2M</th>\n",
              "      <th>RH2M</th>\n",
              "      <th>PRECTOTCORR</th>\n",
              "    </tr>\n",
              "  </thead>\n",
              "  <tbody>\n",
              "    <tr>\n",
              "      <th>0</th>\n",
              "      <td>13.61</td>\n",
              "      <td>68.62</td>\n",
              "      <td>0.77</td>\n",
              "    </tr>\n",
              "    <tr>\n",
              "      <th>1</th>\n",
              "      <td>13.24</td>\n",
              "      <td>69.56</td>\n",
              "      <td>0.12</td>\n",
              "    </tr>\n",
              "    <tr>\n",
              "      <th>2</th>\n",
              "      <td>12.39</td>\n",
              "      <td>66.81</td>\n",
              "      <td>0.00</td>\n",
              "    </tr>\n",
              "    <tr>\n",
              "      <th>3</th>\n",
              "      <td>10.93</td>\n",
              "      <td>60.62</td>\n",
              "      <td>0.00</td>\n",
              "    </tr>\n",
              "    <tr>\n",
              "      <th>4</th>\n",
              "      <td>10.31</td>\n",
              "      <td>60.88</td>\n",
              "      <td>0.00</td>\n",
              "    </tr>\n",
              "    <tr>\n",
              "      <th>...</th>\n",
              "      <td>...</td>\n",
              "      <td>...</td>\n",
              "      <td>...</td>\n",
              "    </tr>\n",
              "    <tr>\n",
              "      <th>11683</th>\n",
              "      <td>13.12</td>\n",
              "      <td>77.19</td>\n",
              "      <td>0.00</td>\n",
              "    </tr>\n",
              "    <tr>\n",
              "      <th>11684</th>\n",
              "      <td>13.00</td>\n",
              "      <td>76.69</td>\n",
              "      <td>0.00</td>\n",
              "    </tr>\n",
              "    <tr>\n",
              "      <th>11685</th>\n",
              "      <td>12.45</td>\n",
              "      <td>74.50</td>\n",
              "      <td>0.00</td>\n",
              "    </tr>\n",
              "    <tr>\n",
              "      <th>11686</th>\n",
              "      <td>12.70</td>\n",
              "      <td>75.81</td>\n",
              "      <td>0.00</td>\n",
              "    </tr>\n",
              "    <tr>\n",
              "      <th>11687</th>\n",
              "      <td>12.39</td>\n",
              "      <td>75.69</td>\n",
              "      <td>0.01</td>\n",
              "    </tr>\n",
              "  </tbody>\n",
              "</table>\n",
              "<p>11688 rows × 3 columns</p>\n",
              "</div>\n",
              "      <button class=\"colab-df-convert\" onclick=\"convertToInteractive('df-33d4489d-3fb5-4e9b-a3ff-c6cf6b7b2f75')\"\n",
              "              title=\"Convert this dataframe to an interactive table.\"\n",
              "              style=\"display:none;\">\n",
              "        \n",
              "  <svg xmlns=\"http://www.w3.org/2000/svg\" height=\"24px\"viewBox=\"0 0 24 24\"\n",
              "       width=\"24px\">\n",
              "    <path d=\"M0 0h24v24H0V0z\" fill=\"none\"/>\n",
              "    <path d=\"M18.56 5.44l.94 2.06.94-2.06 2.06-.94-2.06-.94-.94-2.06-.94 2.06-2.06.94zm-11 1L8.5 8.5l.94-2.06 2.06-.94-2.06-.94L8.5 2.5l-.94 2.06-2.06.94zm10 10l.94 2.06.94-2.06 2.06-.94-2.06-.94-.94-2.06-.94 2.06-2.06.94z\"/><path d=\"M17.41 7.96l-1.37-1.37c-.4-.4-.92-.59-1.43-.59-.52 0-1.04.2-1.43.59L10.3 9.45l-7.72 7.72c-.78.78-.78 2.05 0 2.83L4 21.41c.39.39.9.59 1.41.59.51 0 1.02-.2 1.41-.59l7.78-7.78 2.81-2.81c.8-.78.8-2.07 0-2.86zM5.41 20L4 18.59l7.72-7.72 1.47 1.35L5.41 20z\"/>\n",
              "  </svg>\n",
              "      </button>\n",
              "      \n",
              "  <style>\n",
              "    .colab-df-container {\n",
              "      display:flex;\n",
              "      flex-wrap:wrap;\n",
              "      gap: 12px;\n",
              "    }\n",
              "\n",
              "    .colab-df-convert {\n",
              "      background-color: #E8F0FE;\n",
              "      border: none;\n",
              "      border-radius: 50%;\n",
              "      cursor: pointer;\n",
              "      display: none;\n",
              "      fill: #1967D2;\n",
              "      height: 32px;\n",
              "      padding: 0 0 0 0;\n",
              "      width: 32px;\n",
              "    }\n",
              "\n",
              "    .colab-df-convert:hover {\n",
              "      background-color: #E2EBFA;\n",
              "      box-shadow: 0px 1px 2px rgba(60, 64, 67, 0.3), 0px 1px 3px 1px rgba(60, 64, 67, 0.15);\n",
              "      fill: #174EA6;\n",
              "    }\n",
              "\n",
              "    [theme=dark] .colab-df-convert {\n",
              "      background-color: #3B4455;\n",
              "      fill: #D2E3FC;\n",
              "    }\n",
              "\n",
              "    [theme=dark] .colab-df-convert:hover {\n",
              "      background-color: #434B5C;\n",
              "      box-shadow: 0px 1px 3px 1px rgba(0, 0, 0, 0.15);\n",
              "      filter: drop-shadow(0px 1px 2px rgba(0, 0, 0, 0.3));\n",
              "      fill: #FFFFFF;\n",
              "    }\n",
              "  </style>\n",
              "\n",
              "      <script>\n",
              "        const buttonEl =\n",
              "          document.querySelector('#df-33d4489d-3fb5-4e9b-a3ff-c6cf6b7b2f75 button.colab-df-convert');\n",
              "        buttonEl.style.display =\n",
              "          google.colab.kernel.accessAllowed ? 'block' : 'none';\n",
              "\n",
              "        async function convertToInteractive(key) {\n",
              "          const element = document.querySelector('#df-33d4489d-3fb5-4e9b-a3ff-c6cf6b7b2f75');\n",
              "          const dataTable =\n",
              "            await google.colab.kernel.invokeFunction('convertToInteractive',\n",
              "                                                     [key], {});\n",
              "          if (!dataTable) return;\n",
              "\n",
              "          const docLinkHtml = 'Like what you see? Visit the ' +\n",
              "            '<a target=\"_blank\" href=https://colab.research.google.com/notebooks/data_table.ipynb>data table notebook</a>'\n",
              "            + ' to learn more about interactive tables.';\n",
              "          element.innerHTML = '';\n",
              "          dataTable['output_type'] = 'display_data';\n",
              "          await google.colab.output.renderOutput(dataTable, element);\n",
              "          const docLink = document.createElement('div');\n",
              "          docLink.innerHTML = docLinkHtml;\n",
              "          element.appendChild(docLink);\n",
              "        }\n",
              "      </script>\n",
              "    </div>\n",
              "  </div>\n",
              "  "
            ]
          },
          "metadata": {},
          "execution_count": 10
        }
      ]
    },
    {
      "cell_type": "code",
      "source": [
        "df.shape"
      ],
      "metadata": {
        "colab": {
          "base_uri": "https://localhost:8080/"
        },
        "id": "OxeoUS40pCKm",
        "outputId": "f7d35c60-3f96-459b-e27b-b743d7d44c2e"
      },
      "execution_count": 12,
      "outputs": [
        {
          "output_type": "execute_result",
          "data": {
            "text/plain": [
              "(11688, 3)"
            ]
          },
          "metadata": {},
          "execution_count": 12
        }
      ]
    },
    {
      "cell_type": "code",
      "source": [
        "df=df.dropna()"
      ],
      "metadata": {
        "id": "v8Jrq4-4pIIl"
      },
      "execution_count": 13,
      "outputs": []
    },
    {
      "cell_type": "code",
      "source": [
        "x = np.asarray(df.drop('PRECTOTCORR',axis=1))\n",
        "y =np.asarray(df['PRECTOTCORR'])"
      ],
      "metadata": {
        "id": "CG3r7DqJpK5T"
      },
      "execution_count": 14,
      "outputs": []
    },
    {
      "cell_type": "code",
      "source": [
        "from sklearn.model_selection import train_test_split\n",
        "x_train, x_test, y_train, y_test = train_test_split(x, y, test_size = 0.05)"
      ],
      "metadata": {
        "id": "Xj4_JU6wp4q8"
      },
      "execution_count": 21,
      "outputs": []
    },
    {
      "cell_type": "code",
      "source": [
        "y_train = np.nan_to_num(y_train)\n",
        "x_train = np.nan_to_num(x_train)\n",
        "y_test = np.nan_to_num(y_test)\n",
        "x_test = np.nan_to_num(x_test)"
      ],
      "metadata": {
        "id": "M2aarbtSp0nM"
      },
      "execution_count": 22,
      "outputs": []
    },
    {
      "cell_type": "code",
      "source": [
        "from sklearn.linear_model import LinearRegression\n",
        "LR = LinearRegression()\n",
        "LR.fit(x_train,y_train)"
      ],
      "metadata": {
        "colab": {
          "base_uri": "https://localhost:8080/"
        },
        "id": "5Z2Qk87MqBe5",
        "outputId": "0b3c82b0-b8f4-4882-a841-60fcd34603f6"
      },
      "execution_count": 23,
      "outputs": [
        {
          "output_type": "execute_result",
          "data": {
            "text/plain": [
              "LinearRegression()"
            ]
          },
          "metadata": {},
          "execution_count": 23
        }
      ]
    },
    {
      "cell_type": "code",
      "source": [
        "y_prediction =  LR.predict(x_test)\n",
        "y_prediction"
      ],
      "metadata": {
        "colab": {
          "base_uri": "https://localhost:8080/"
        },
        "id": "EmovbcdwqCkB",
        "outputId": "54f3bc80-4e0e-41f9-afde-e9d5ee1a28b7"
      },
      "execution_count": 24,
      "outputs": [
        {
          "output_type": "execute_result",
          "data": {
            "text/plain": [
              "array([-1.72763027, -1.22420417,  0.19719937,  5.11925402, -0.26530063,\n",
              "        4.63781148,  0.58185515, -0.46277977,  5.84381669,  2.22378098,\n",
              "        2.38610056,  3.7330528 ,  4.49107226,  4.66589721,  2.73330599,\n",
              "       -2.14192006,  1.95634723,  3.67056099, -0.28054272,  1.62121485,\n",
              "       -0.99649364,  3.59581742,  3.52925004,  0.05493913,  0.70785562,\n",
              "        5.22477811,  0.51996315,  1.55734145,  2.16462571,  2.88840986,\n",
              "        2.69595558,  0.60676858,  4.38263275,  2.91259872,  2.4495673 ,\n",
              "        4.4248688 ,  4.48832435,  4.07469075,  4.12422535,  4.7147636 ,\n",
              "        4.29235156,  3.03125546,  6.46835518, -1.06980249,  2.16796551,\n",
              "        2.25221292,  2.20220408,  3.30902001,  0.73779392,  3.87106995,\n",
              "        0.5302795 ,  3.66386226,  4.19837235,  1.26619064,  3.69600911,\n",
              "       -0.18888319,  5.24388491,  0.31358243,  5.44781325, -3.44782143,\n",
              "       -1.56559177, -2.40857203,  0.08977752,  0.27378756,  0.68779628,\n",
              "       -1.21171325,  4.27723424, -0.16594709,  5.32968468, -3.72152485,\n",
              "        4.95794092,  1.6771439 ,  4.561576  ,  1.52221079,  2.44782178,\n",
              "        2.59252647,  4.75736357, -0.15292475,  3.33567896,  5.56306507,\n",
              "        0.07429628,  3.1506256 , -1.41515209,  4.91444886,  0.67960239,\n",
              "        1.14927616,  0.59990235, -0.17426657,  0.32852898,  1.38162442,\n",
              "        3.50344126, -0.21309769,  4.98876011, -6.23492334,  3.11030256,\n",
              "        4.33632112, -2.12727779,  0.46242782, -2.82728768,  3.26235891,\n",
              "        1.77829607,  5.39845736,  4.30178701,  4.41543335,  4.13473811,\n",
              "        5.67980879,  0.07506686,  5.12380465,  0.62631095,  3.19234468,\n",
              "        0.34895224,  1.60908461,  3.90996946,  0.98670623, -0.78105013,\n",
              "        5.04217713,  5.03973594,  3.2798063 , -1.29791887,  5.52028313,\n",
              "        2.43337592,  5.50786061, -0.32929879, -2.94676813,  5.48007042,\n",
              "        4.43383002,  1.15645237,  5.3236566 , -1.13397936,  1.88977985,\n",
              "        0.58961673,  4.17476887, -0.22497759,  2.38365936,  1.18070962,\n",
              "        1.0277571 ,  4.04547703,  5.3938648 ,  4.74332112,  0.39938219,\n",
              "       -2.07367881,  3.65251379,  3.89305351,  3.0535602 ,  4.50815899,\n",
              "        2.58567143,  4.62950727,  4.41106468,  3.94623463, -1.49563391,\n",
              "        4.22853535,  0.44773161,  5.42672179,  0.22306209,  2.70054813,\n",
              "        2.84406438,  0.16242936,  4.52267323, -3.17309707, -1.23045939,\n",
              "        3.05857061,  4.30047381,  2.4587524 ,  4.74308522,  5.05700137,\n",
              "        4.40354225,  5.50110469,  2.21500172,  1.502137  ,  2.71831425,\n",
              "       -1.84646897,  5.08902019,  4.47469893,  4.51412987, -1.57801429,\n",
              "        0.87951153,  2.47776334,  3.62598042, -5.08794863,  1.96865618,\n",
              "        4.97114522,  3.01567836,  4.51103249, -0.70086384,  3.88647955,\n",
              "        4.0068818 ,  3.2296267 ,  4.74714635,  0.66639809, -1.14711527,\n",
              "        2.18313595,  4.64934191,  1.79180791,  3.52112779, -2.17393888,\n",
              "        2.84754095,  4.20249067,  0.38133499,  0.90729847,  1.46808038,\n",
              "        3.1996884 ,  0.21769101, -0.91996263,  0.50554802,  0.27331333,\n",
              "        3.64756057,  5.57668723, -1.85608638, -0.87114936,  4.06651131,\n",
              "        4.02354741,  3.07219277, -0.27067495,  0.35869198,  5.74116936,\n",
              "       -0.73277154, -2.7626897 ,  3.69236584,  3.63189737,  1.56751676,\n",
              "        4.88875039,  0.58770371,  4.42785587,  4.03376464,  0.66769684,\n",
              "       -1.51284295,  5.15540562, -0.96602391,  0.5842424 , -0.30660185,\n",
              "        5.12391496,  3.56713514,  5.08005898,  3.26648843, -0.83840595,\n",
              "        3.45469963,  3.94007853,  4.4623336 , -4.27484947,  5.5371307 ,\n",
              "        5.57883533,  3.24826252, -2.40092402,  2.3801948 ,  4.2177867 ,\n",
              "        4.88408945,  4.04846411,  5.18008316,  4.6751507 ,  1.33035632,\n",
              "        5.04332283, -1.49694711,  4.67611443,  4.06268608,  2.46020238,\n",
              "        1.69985204,  1.21726706,  3.71411025,  3.05425914, -2.3601123 ,\n",
              "        1.74770157,  4.10199144,  4.63469964,  1.81204921,  3.18965313,\n",
              "        5.40073104,  5.1680101 ,  1.81204921,  3.51795876,  2.79656512,\n",
              "        2.38819554,  4.79763349, -0.15704307,  3.85912166, -0.3974684 ,\n",
              "        5.21281537,  3.24616754,  4.16712085,  2.35409293, -1.42895621,\n",
              "        1.33998493,  0.62261049,  0.94536227,  1.25210545,  5.2750261 ,\n",
              "        0.52246398,  4.30901717,  5.65531321,  1.88936199,  4.64486293,\n",
              "       -2.1646282 , -2.03705298,  0.93126588,  3.74643906,  5.47081692,\n",
              "       -1.21356908,  3.20513112,  0.9472069 ,  3.37810023,  2.82291653,\n",
              "        3.74853078,  0.30205199,  1.30898377,  4.56277564,  1.20890566,\n",
              "        5.43992609,  1.16217617,  2.46437708,  5.40437431,  4.72151952,\n",
              "        0.25724672, -0.17059684, -0.66944158, -2.79244929,  2.01395014,\n",
              "        3.8340802 ,  2.88039793,  2.75839019,  5.79291251,  4.69731622,\n",
              "       -0.17509027, -4.33763355,  3.44220872,  4.69959316,  1.33581349,\n",
              "        2.76030321, -0.35677025,  4.96774029,  2.4029062 ,  5.18199618,\n",
              "       -3.56642098,  4.79273339,  2.28064811,  5.74087708,  3.72922757,\n",
              "        3.31320672,  4.49412773,  4.71643747,  3.39279644,  3.05594746,\n",
              "        0.47305171,  2.751342  ,  5.61551835,  2.65264222,  3.21875328,\n",
              "        5.33877392, -0.90448139,  4.5556558 , -4.35974188,  2.43784371,\n",
              "        1.48361556,  0.15711223,  1.799737  ,  1.12991575,  3.5389391 ,\n",
              "        1.96900565,  1.13284889,  2.92377968,  4.94992899,  4.14537319,\n",
              "        1.92503854,  0.7115109 ,  4.6480859 ,  1.67767532,  0.30539973,\n",
              "        1.95837057,  0.75751499,  3.86491385,  5.66463835,  5.46686611,\n",
              "        2.52741151,  4.67108957,  0.55001502,  0.3660929 , -5.31325989,\n",
              "        3.6863917 ,  0.72340199,  1.80734227,  3.54802508, -0.82867496,\n",
              "        3.53398262,  4.91397381,  3.34899683,  4.452659  , -0.09920101,\n",
              "        4.0821568 ,  0.41090937,  4.41059045,  3.22185392,  2.34009565,\n",
              "        1.31022859,  3.83205686,  1.98101032,  2.98040766,  3.22442314,\n",
              "        0.24034196,  3.36471397,  0.81551336,  4.41902024,  0.74024956,\n",
              "        4.85230652,  4.134974  ,  5.34247112, -1.95782717,  0.23609888,\n",
              "        1.66488888,  2.43909972,  3.54968775, -0.11666284,  3.86192677,\n",
              "        1.70743166,  2.22759501, -0.67068639,  3.4277484 ,  1.77458441,\n",
              "        1.79568707,  2.04404475,  0.44479847,  5.62639177,  4.94790565,\n",
              "        1.9769492 ,  4.85684188,  3.62413579, -0.15203266,  2.8292546 ,\n",
              "        0.70361254,  5.5637752 , -3.21684274,  5.57357457,  1.75476097,\n",
              "        1.40080287,  2.27838562,  1.48291662,  1.93039841,  0.05888668,\n",
              "        1.41055706, -0.6891659 ,  1.32432498,  3.51043551,  0.50280805,\n",
              "        1.42966711,  2.69852479,  1.22204157,  2.38604662, -1.55298728,\n",
              "        2.53159821, -3.08587379,  3.99050847,  4.18110693,  1.93458512,\n",
              "        1.97904418,  1.46604259,  3.12009868,  2.02482438, -0.13899587,\n",
              "        2.83319095,  2.97922004,  3.1358722 ,  1.42076309,  3.72510925,\n",
              "        5.55989604, -1.65610885,  5.57495616,  0.74640567,  5.10701346,\n",
              "        3.9117569 ,  3.33657431,  4.42690659,  1.41055706, -1.354141  ,\n",
              "        0.28019402,  0.7339115 , -0.74777529,  0.86523318,  5.26462691,\n",
              "        4.7638836 ,  1.18541574,  2.60633059,  1.58722663,  1.76982435,\n",
              "        2.73987995, -0.41031204,  4.71392545,  4.09142474, -0.5225204 ,\n",
              "        3.84872247, -0.59457243,  2.02941693,  0.49886049,  1.65915063,\n",
              "        3.24616754,  1.31900785, -0.33749269,  0.78564345,  0.43620118,\n",
              "        5.22740126,  1.35635826,  1.28107207,  2.4640848 , -0.86146356,\n",
              "       -3.72121812,  3.90357746,  1.45016996, -1.65431022,  1.95353886,\n",
              "        4.32677209,  2.93512815, -1.31727927,  5.79440442,  0.82806147,\n",
              "       -1.87204186,  5.08717882, -0.52282713,  1.79352696,  2.58041067,\n",
              "       -2.75786125,  0.05923615, -0.22586968, -1.7224379 ,  4.65269291,\n",
              "        3.84041826,  1.65420861, -0.82824266,  0.09251424, -0.24523009,\n",
              "        4.29939976,  2.86797215,  4.02372937,  4.15207192,  4.23947716,\n",
              "        1.54403803,  4.23649009, -3.39057918,  3.81832114,  1.16671234,\n",
              "        4.81974181,  4.66165412,  1.13600347,  4.45714123,  5.6260995 ,\n",
              "        6.18121156,  1.68019936,  1.89599233,  0.39938219,  0.95019397,\n",
              "        4.98781083,  2.26698077,  3.78204477,  2.14902296,  1.83277594,\n",
              "        3.78426452,  4.26940427,  0.17922055,  1.43247223,  5.03633101,\n",
              "        4.28171647,  1.26447404,  0.35368157, -0.06718218,  1.02357121,\n",
              "        3.38292868,  0.96489018, -0.51936582,  0.11044787,  4.01673511,\n",
              "        0.86912354,  4.84208929,  0.69215049,  3.05061587,  0.97087878,\n",
              "        2.72582549, -1.70707023,  1.10176489,  3.95537781,  1.10839523,\n",
              "        1.61603368,  1.83488212, -3.04362328,  2.4066034 ,  1.40415386,\n",
              "        3.95435688, -2.02051214,  5.54108151,  3.97688631,  0.67237223])"
            ]
          },
          "metadata": {},
          "execution_count": 24
        }
      ]
    },
    {
      "cell_type": "code",
      "source": [
        "from sklearn.metrics import r2_score\n",
        "from sklearn.metrics import mean_squared_error\n",
        "score=r2_score(y_test,y_prediction)\n",
        "print(\"r2 socre is \",score)\n",
        "print(\"mean_sqrd_error is=\",mean_squared_error(y_test,y_prediction))\n",
        "print(\"root_mean_squared error of is=\",np.sqrt(mean_squared_error(y_test,y_prediction)))"
      ],
      "metadata": {
        "colab": {
          "base_uri": "https://localhost:8080/"
        },
        "id": "Kz--yKGRqK7Z",
        "outputId": "2cf5acff-5f92-4671-fbf9-bddf71869a4e"
      },
      "execution_count": 27,
      "outputs": [
        {
          "output_type": "stream",
          "name": "stdout",
          "text": [
            "r2 socre is  0.9817960423106722\n",
            "mean_sqrd_error is= 31.327400997765388\n",
            "root_mean_squared error of is= 5.597088618001808\n"
          ]
        }
      ]
    }
  ]
}